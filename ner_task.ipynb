{
  "nbformat": 4,
  "nbformat_minor": 0,
  "metadata": {
    "colab": {
      "name": "ner_task.ipynb",
      "provenance": [],
      "collapsed_sections": [],
      "mount_file_id": "1dH9gyBwtU6MGKkxp-xQ7KFhIV2faQWLe",
      "authorship_tag": "ABX9TyOK4uhl7Um65H4NxugKqDfh",
      "include_colab_link": true
    },
    "kernelspec": {
      "name": "python3",
      "display_name": "Python 3"
    }
  },
  "cells": [
    {
      "cell_type": "markdown",
      "metadata": {
        "id": "view-in-github",
        "colab_type": "text"
      },
      "source": [
        "<a href=\"https://colab.research.google.com/github/hhhhh0102/ner_project/blob/main/ner_task.ipynb\" target=\"_parent\"><img src=\"https://colab.research.google.com/assets/colab-badge.svg\" alt=\"Open In Colab\"/></a>"
      ]
    },
    {
      "cell_type": "code",
      "metadata": {
        "id": "IowYAnuadhFT"
      },
      "source": [
        "# 필요한 모듈들을 설치합니다.\r\n",
        "!pip install transformers\r\n",
        "!pip install sentencepiece"
      ],
      "execution_count": null,
      "outputs": []
    },
    {
      "cell_type": "code",
      "metadata": {
        "id": "04PQiZsZwEs9"
      },
      "source": [
        "# 필요한 모듈 설치를 위해 github의 프로젝트를 마운트합니다.\r\n",
        "!git clone https://github.com/hhhhh0102/ner_project.git"
      ],
      "execution_count": null,
      "outputs": []
    },
    {
      "cell_type": "code",
      "metadata": {
        "id": "3zv_ZcxQ9mvf"
      },
      "source": [
        "# 모델을 불러오기 위해 구글드라이브를 마운트합니다.\r\n",
        "from google.colab import drive\r\n",
        "drive.mount('/content/drive')"
      ],
      "execution_count": null,
      "outputs": []
    },
    {
      "cell_type": "code",
      "metadata": {
        "id": "mKqJHk3T-JAf"
      },
      "source": [
        "# 마운트된 구글드라이브 경로를 추가해줍니다.\r\n",
        "import os\r\n",
        "import sys\r\n",
        "sys.path.append(\"/content/ner_project/ner_model\")"
      ],
      "execution_count": null,
      "outputs": []
    },
    {
      "cell_type": "code",
      "metadata": {
        "id": "Y8L_M21Z06bS"
      },
      "source": [
        "import numpy as np\r\n",
        "import tensorflow as tf\r\n",
        "from Preprocess import preprocess\r\n",
        "from make_model import make_model\r\n",
        "from tokenizer import KoBertTokenizer\r\n",
        "\r\n",
        "# 한글 텍스트 파일의 경로를 input으로 받아 해당 파일 텍스트 값들의 NER값을 예측한 텍스트 파일을 만드는 함수입니다.\r\n",
        "def ner_task(textpath):\r\n",
        "    # 한글 텍스트 토크나이저를 불러옵니다.\r\n",
        "    tokenizer = KoBertTokenizer.from_pretrained('monologg/kobert')\r\n",
        "\r\n",
        "    # 예측 모델을 불러옵니다.\r\n",
        "    model = tf.keras.models.load_model(\"/content/drive/MyDrive/my_model.h5\")\r\n",
        "\r\n",
        "    # 텍스트 파일을 예측 모델의 input을 만들기 위한 초기 설정을 합니다\r\n",
        "    my_model = make_model()\r\n",
        "    my_model.model_input.set_dataset(\"/content/ner_project/ner_model/train_data\")\r\n",
        "    my_model.model_input.make_input()\r\n",
        "   \r\n",
        "    line_list = []\r\n",
        "\r\n",
        "    # 한글 텍스트 파일을 읽고 문장들을 line_list변수에 할당합니다.\r\n",
        "    f = open(textpath, mode='r', encoding='utf-8')\r\n",
        "    while True:\r\n",
        "        line = f.readline()\r\n",
        "        if not line: break\r\n",
        "        line_list.append(line)\r\n",
        "    f.close()\r\n",
        "\r\n",
        "    # 한글 텍스트들을 예측 모델을 사용하여 NER값들을 예측하고, 예측 값들을 포맷에 맞게 ner_result.txt파일에 저장합니다.\r\n",
        "    f = open('ner_result.txt', mode='wt', encoding='utf-8')\r\n",
        "    for l in list(range(len(line_list))):\r\n",
        "\r\n",
        "        tokenized_sentence = np.array([tokenizer.encode(line_list[l], max_length=88, pad_to_max_length=True)])\r\n",
        "        tokenized_mask = np.array([[int(x != 1) for x in tokenized_sentence[0].tolist()]])\r\n",
        "        ans = model.predict([tokenized_sentence, tokenized_mask])\r\n",
        "        ans = np.argmax(ans, axis=2)\r\n",
        "\r\n",
        "        tokens = tokenizer.convert_ids_to_tokens(tokenized_sentence[0])\r\n",
        "        new_tokens, new_labels = [], []\r\n",
        "        for token, label_idx in zip(tokens, ans[0]):\r\n",
        "\r\n",
        "            if (token.startswith(\"▁\")):\r\n",
        "                new_labels.append(my_model.model_input.pr.index_to_ner[label_idx])\r\n",
        "                new_tokens.append(token[1:])\r\n",
        "            elif (token == '[CLS]'):\r\n",
        "                pass\r\n",
        "            elif (token == '[SEP]'):\r\n",
        "                pass\r\n",
        "            elif (token == '[PAD]'):\r\n",
        "                pass\r\n",
        "            elif (token != '[CLS]' or token != '[SEP]'):\r\n",
        "                new_tokens[-1] = new_tokens[-1] + token\r\n",
        "\r\n",
        "        for ll in list(range(len(new_tokens))):\r\n",
        "            f.write(\"{}\\t{}\\t{}\\n\".format(ll + 1, new_tokens[ll], new_labels[ll]))\r\n",
        "        f.write(\"\\n\")\r\n",
        "\r\n",
        "    f.close()"
      ],
      "execution_count": null,
      "outputs": []
    },
    {
      "cell_type": "code",
      "metadata": {
        "id": "957s5aVDEFN1"
      },
      "source": [
        "# pre_trained_data.txt : NER 정답지가 있는 한글 텍스트 파일\r\n",
        "ner_task(\"/content/ner_project/pre_trained_data.txt\")"
      ],
      "execution_count": null,
      "outputs": []
    }
  ]
}