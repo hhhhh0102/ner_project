{
  "nbformat": 4,
  "nbformat_minor": 0,
  "metadata": {
    "colab": {
      "name": "ner_task.ipynb",
      "provenance": [],
      "collapsed_sections": [],
      "mount_file_id": "1dH9gyBwtU6MGKkxp-xQ7KFhIV2faQWLe",
      "authorship_tag": "ABX9TyP4QaSPg/D+auOlLMhnm8+W",
      "include_colab_link": true
    },
    "kernelspec": {
      "name": "python3",
      "display_name": "Python 3"
    }
  },
  "cells": [
    {
      "cell_type": "markdown",
      "metadata": {
        "id": "view-in-github",
        "colab_type": "text"
      },
      "source": [
        "<a href=\"https://colab.research.google.com/github/hhhhh0102/ner_project/blob/main/ner_task.ipynb\" target=\"_parent\"><img src=\"https://colab.research.google.com/assets/colab-badge.svg\" alt=\"Open In Colab\"/></a>"
      ]
    },
    {
      "cell_type": "code",
      "metadata": {
        "id": "IowYAnuadhFT"
      },
      "source": [
        "!pip install transformers"
      ],
      "execution_count": null,
      "outputs": []
    },
    {
      "cell_type": "code",
      "metadata": {
        "id": "dRO0Wcctd9h0"
      },
      "source": [
        "!pip install sentencepiece"
      ],
      "execution_count": null,
      "outputs": []
    },
    {
      "cell_type": "code",
      "metadata": {
        "id": "3zv_ZcxQ9mvf",
        "colab": {
          "base_uri": "https://localhost:8080/"
        },
        "outputId": "a0992007-434d-49cd-e2d9-e21fb1a5395b"
      },
      "source": [
        "from google.colab import drive\r\n",
        "drive.mount('/content/drive')"
      ],
      "execution_count": null,
      "outputs": [
        {
          "output_type": "stream",
          "text": [
            "Drive already mounted at /content/drive; to attempt to forcibly remount, call drive.mount(\"/content/drive\", force_remount=True).\n"
          ],
          "name": "stdout"
        }
      ]
    },
    {
      "cell_type": "code",
      "metadata": {
        "id": "6c4TxJJcv4kX",
        "colab": {
          "base_uri": "https://localhost:8080/",
          "height": 134
        },
        "outputId": "0ec6ec60-4017-4135-9ae0-6184269d569f"
      },
      "source": [
        "/import numpy as np\r\n",
        "import tensorflow as tf\r\n",
        "import \r\n",
        "from content/ner_project/ner_model/make_model.py import make_model\r\n",
        "from content/ner_project/ner_model/tokenizer.py import KoBertTokenizer\r\n",
        "/content/ner_project/ner_model/make_model.py\r\n",
        "\r\n",
        "\r\n",
        "def ner_task(textpath):\r\n",
        "    tokenizer = KoBertTokenizer.from_pretrained('monologg/kobert')\r\n",
        "    model = tf.keras.models.load_model(\"/content/drive/MyDrive/Colab Notebooks/ner_model/my_model.h5\")\r\n",
        "    my_model = make_model()\r\n",
        "    my_model.model_input.make_input()\r\n",
        "    line_list = []\r\n",
        "\r\n",
        "    f = open(textpath, mode='r', encoding='utf-8')\r\n",
        "    while True:\r\n",
        "        line = f.readline()\r\n",
        "        if not line: break\r\n",
        "        line_list.append(line)\r\n",
        "    f.close()\r\n",
        "\r\n",
        "    f = open('ner_result.txt', mode='wt', encoding='utf-8')\r\n",
        "    for l in list(range(len(line_list))):\r\n",
        "\r\n",
        "        tokenized_sentence = np.array([tokenizer.encode(line_list[l], max_length=88, pad_to_max_length=True)])\r\n",
        "        tokenized_mask = np.array([[int(x != 1) for x in tokenized_sentence[0].tolist()]])\r\n",
        "        ans = model.predict([tokenized_sentence, tokenized_mask])\r\n",
        "        ans = np.argmax(ans, axis=2)\r\n",
        "\r\n",
        "        tokens = tokenizer.convert_ids_to_tokens(tokenized_sentence[0])\r\n",
        "        new_tokens, new_labels = [], []\r\n",
        "        for token, label_idx in zip(tokens, ans[0]):\r\n",
        "\r\n",
        "            if (token.startswith(\"▁\")):\r\n",
        "                new_labels.append(my_model.model_input.pr.index_to_ner[label_idx])\r\n",
        "                new_tokens.append(token[1:])\r\n",
        "            elif (token == '[CLS]'):\r\n",
        "                pass\r\n",
        "            elif (token == '[SEP]'):\r\n",
        "                pass\r\n",
        "            elif (token == '[PAD]'):\r\n",
        "                pass\r\n",
        "            elif (token != '[CLS]' or token != '[SEP]'):\r\n",
        "                new_tokens[-1] = new_tokens[-1] + token\r\n",
        "\r\n",
        "        for ll in list(range(len(new_tokens))):\r\n",
        "            f.write(\"{}\\t{}\\t{}\\n\".format(ll + 1, new_tokens[ll], new_labels[ll]))\r\n",
        "        f.write(\"\\n\")\r\n",
        "\r\n",
        "    f.close()"
      ],
      "execution_count": null,
      "outputs": [
        {
          "output_type": "error",
          "ename": "SyntaxError",
          "evalue": "ignored",
          "traceback": [
            "\u001b[0;36m  File \u001b[0;32m\"<ipython-input-7-445cd9ae9ac9>\"\u001b[0;36m, line \u001b[0;32m3\u001b[0m\n\u001b[0;31m    from content/ner_project/ner_model/make_model.py import make_model\u001b[0m\n\u001b[0m                ^\u001b[0m\n\u001b[0;31mSyntaxError\u001b[0m\u001b[0;31m:\u001b[0m invalid syntax\n"
          ]
        }
      ]
    },
    {
      "cell_type": "code",
      "metadata": {
        "id": "igYVDGXrCZKi"
      },
      "source": [
        ""
      ],
      "execution_count": null,
      "outputs": []
    }
  ]
}