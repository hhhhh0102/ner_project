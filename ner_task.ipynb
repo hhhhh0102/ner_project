{
  "nbformat": 4,
  "nbformat_minor": 0,
  "metadata": {
    "colab": {
      "name": "ner_task.ipynb",
      "provenance": [],
      "collapsed_sections": [],
      "mount_file_id": "1dH9gyBwtU6MGKkxp-xQ7KFhIV2faQWLe",
      "authorship_tag": "ABX9TyNBMl79yL5X2tbuGPQYzGrQ",
      "include_colab_link": true
    },
    "kernelspec": {
      "name": "python3",
      "display_name": "Python 3"
    }
  },
  "cells": [
    {
      "cell_type": "markdown",
      "metadata": {
        "id": "view-in-github",
        "colab_type": "text"
      },
      "source": [
        "<a href=\"https://colab.research.google.com/github/hhhhh0102/ner_project/blob/main/ner_task.ipynb\" target=\"_parent\"><img src=\"https://colab.research.google.com/assets/colab-badge.svg\" alt=\"Open In Colab\"/></a>"
      ]
    },
    {
      "cell_type": "code",
      "metadata": {
        "id": "IowYAnuadhFT"
      },
      "source": [
        "!pip install transformers\r\n",
        "!pip install sentencepiece"
      ],
      "execution_count": null,
      "outputs": []
    },
    {
      "cell_type": "code",
      "metadata": {
        "id": "04PQiZsZwEs9"
      },
      "source": [
        "!git clone https://github.com/hhhhh0102/ner_project.git"
      ],
      "execution_count": null,
      "outputs": []
    },
    {
      "cell_type": "code",
      "metadata": {
        "id": "3zv_ZcxQ9mvf"
      },
      "source": [
        "from google.colab import drive\r\n",
        "drive.mount('/content/drive')"
      ],
      "execution_count": null,
      "outputs": []
    },
    {
      "cell_type": "code",
      "metadata": {
        "id": "mKqJHk3T-JAf"
      },
      "source": [
        "import os\r\n",
        "import sys\r\n",
        "sys.path.append(\"/content/ner_project/ner_model\")"
      ],
      "execution_count": 5,
      "outputs": []
    },
    {
      "cell_type": "code",
      "metadata": {
        "id": "Y8L_M21Z06bS"
      },
      "source": [
        "import numpy as np\r\n",
        "import tensorflow as tf\r\n",
        "from Preprocess import preprocess\r\n",
        "from make_model import make_model\r\n",
        "from tokenizer import KoBertTokenizer\r\n",
        "\r\n",
        "def ner_task(textpath):\r\n",
        "    tokenizer = KoBertTokenizer.from_pretrained('monologg/kobert')\r\n",
        "    model = tf.keras.models.load_model(\"/content/drive/MyDrive/my_model.h5\")\r\n",
        "    my_model = make_model()\r\n",
        "    my_model.model_input.set_dataset(\"/content/ner_project/ner_model/train_data\")\r\n",
        "    my_model.model_input.make_input()\r\n",
        "    line_list = []\r\n",
        "\r\n",
        "    f = open(textpath, mode='r', encoding='utf-8')\r\n",
        "    while True:\r\n",
        "        line = f.readline()\r\n",
        "        if not line: break\r\n",
        "        line_list.append(line)\r\n",
        "    f.close()\r\n",
        "\r\n",
        "    f = open('ner_result.txt', mode='wt', encoding='utf-8')\r\n",
        "    for l in list(range(len(line_list))):\r\n",
        "\r\n",
        "        tokenized_sentence = np.array([tokenizer.encode(line_list[l], max_length=88, pad_to_max_length=True)])\r\n",
        "        tokenized_mask = np.array([[int(x != 1) for x in tokenized_sentence[0].tolist()]])\r\n",
        "        ans = model.predict([tokenized_sentence, tokenized_mask])\r\n",
        "        ans = np.argmax(ans, axis=2)\r\n",
        "\r\n",
        "        tokens = tokenizer.convert_ids_to_tokens(tokenized_sentence[0])\r\n",
        "        new_tokens, new_labels = [], []\r\n",
        "        for token, label_idx in zip(tokens, ans[0]):\r\n",
        "\r\n",
        "            if (token.startswith(\"▁\")):\r\n",
        "                new_labels.append(my_model.model_input.pr.index_to_ner[label_idx])\r\n",
        "                new_tokens.append(token[1:])\r\n",
        "            elif (token == '[CLS]'):\r\n",
        "                pass\r\n",
        "            elif (token == '[SEP]'):\r\n",
        "                pass\r\n",
        "            elif (token == '[PAD]'):\r\n",
        "                pass\r\n",
        "            elif (token != '[CLS]' or token != '[SEP]'):\r\n",
        "                new_tokens[-1] = new_tokens[-1] + token\r\n",
        "\r\n",
        "        for ll in list(range(len(new_tokens))):\r\n",
        "            f.write(\"{}\\t{}\\t{}\\n\".format(ll + 1, new_tokens[ll], new_labels[ll]))\r\n",
        "        f.write(\"\\n\")\r\n",
        "\r\n",
        "    f.close()"
      ],
      "execution_count": 6,
      "outputs": []
    },
    {
      "cell_type": "code",
      "metadata": {
        "id": "957s5aVDEFN1"
      },
      "source": [
        "ner_task(\"/content/ner_project/pre_trained_data.txt\")"
      ],
      "execution_count": null,
      "outputs": []
    }
  ]
}