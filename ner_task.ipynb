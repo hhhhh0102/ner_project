{
  "nbformat": 4,
  "nbformat_minor": 0,
  "metadata": {
    "colab": {
      "name": "ner_task.ipynb",
      "provenance": [],
      "collapsed_sections": [],
      "mount_file_id": "1dH9gyBwtU6MGKkxp-xQ7KFhIV2faQWLe",
      "authorship_tag": "ABX9TyPvBTzrMNYU0E9Zy5TuMFH3",
      "include_colab_link": true
    },
    "kernelspec": {
      "name": "python3",
      "display_name": "Python 3"
    },
    "accelerator": "TPU"
  },
  "cells": [
    {
      "cell_type": "markdown",
      "metadata": {
        "id": "view-in-github",
        "colab_type": "text"
      },
      "source": [
        "<a href=\"https://colab.research.google.com/github/hhhhh0102/ner_project/blob/main/ner_task.ipynb\" target=\"_parent\"><img src=\"https://colab.research.google.com/assets/colab-badge.svg\" alt=\"Open In Colab\"/></a>"
      ]
    },
    {
      "cell_type": "code",
      "metadata": {
        "id": "IowYAnuadhFT",
        "colab": {
          "base_uri": "https://localhost:8080/"
        },
        "outputId": "5c6b3193-1f59-4fb7-e189-e591ab7973d8"
      },
      "source": [
        "!pip install transformers"
      ],
      "execution_count": 53,
      "outputs": [
        {
          "output_type": "stream",
          "text": [
            "Requirement already satisfied: transformers in /usr/local/lib/python3.6/dist-packages (4.1.1)\n",
            "Requirement already satisfied: numpy in /usr/local/lib/python3.6/dist-packages (from transformers) (1.19.4)\n",
            "Requirement already satisfied: tokenizers==0.9.4 in /usr/local/lib/python3.6/dist-packages (from transformers) (0.9.4)\n",
            "Requirement already satisfied: tqdm>=4.27 in /usr/local/lib/python3.6/dist-packages (from transformers) (4.41.1)\n",
            "Requirement already satisfied: requests in /usr/local/lib/python3.6/dist-packages (from transformers) (2.23.0)\n",
            "Requirement already satisfied: filelock in /usr/local/lib/python3.6/dist-packages (from transformers) (3.0.12)\n",
            "Requirement already satisfied: sacremoses in /usr/local/lib/python3.6/dist-packages (from transformers) (0.0.43)\n",
            "Requirement already satisfied: packaging in /usr/local/lib/python3.6/dist-packages (from transformers) (20.8)\n",
            "Requirement already satisfied: regex!=2019.12.17 in /usr/local/lib/python3.6/dist-packages (from transformers) (2019.12.20)\n",
            "Requirement already satisfied: dataclasses; python_version < \"3.7\" in /usr/local/lib/python3.6/dist-packages (from transformers) (0.8)\n",
            "Requirement already satisfied: urllib3!=1.25.0,!=1.25.1,<1.26,>=1.21.1 in /usr/local/lib/python3.6/dist-packages (from requests->transformers) (1.24.3)\n",
            "Requirement already satisfied: certifi>=2017.4.17 in /usr/local/lib/python3.6/dist-packages (from requests->transformers) (2020.12.5)\n",
            "Requirement already satisfied: chardet<4,>=3.0.2 in /usr/local/lib/python3.6/dist-packages (from requests->transformers) (3.0.4)\n",
            "Requirement already satisfied: idna<3,>=2.5 in /usr/local/lib/python3.6/dist-packages (from requests->transformers) (2.10)\n",
            "Requirement already satisfied: click in /usr/local/lib/python3.6/dist-packages (from sacremoses->transformers) (7.1.2)\n",
            "Requirement already satisfied: six in /usr/local/lib/python3.6/dist-packages (from sacremoses->transformers) (1.15.0)\n",
            "Requirement already satisfied: joblib in /usr/local/lib/python3.6/dist-packages (from sacremoses->transformers) (1.0.0)\n",
            "Requirement already satisfied: pyparsing>=2.0.2 in /usr/local/lib/python3.6/dist-packages (from packaging->transformers) (2.4.7)\n"
          ],
          "name": "stdout"
        }
      ]
    },
    {
      "cell_type": "code",
      "metadata": {
        "id": "dRO0Wcctd9h0",
        "colab": {
          "base_uri": "https://localhost:8080/"
        },
        "outputId": "79118efe-05a3-4931-c0c1-e2d1e08b6fb1"
      },
      "source": [
        "!pip install sentencepiece"
      ],
      "execution_count": 54,
      "outputs": [
        {
          "output_type": "stream",
          "text": [
            "Requirement already satisfied: sentencepiece in /usr/local/lib/python3.6/dist-packages (0.1.94)\n"
          ],
          "name": "stdout"
        }
      ]
    },
    {
      "cell_type": "code",
      "metadata": {
        "id": "04PQiZsZwEs9",
        "colab": {
          "base_uri": "https://localhost:8080/"
        },
        "outputId": "826ec927-deec-4222-ba7f-2f1bfa2385ae"
      },
      "source": [
        "!git clone https://github.com/hhhhh0102/ner_project.git"
      ],
      "execution_count": 55,
      "outputs": [
        {
          "output_type": "stream",
          "text": [
            "fatal: destination path 'ner_project' already exists and is not an empty directory.\n"
          ],
          "name": "stdout"
        }
      ]
    },
    {
      "cell_type": "code",
      "metadata": {
        "id": "3zv_ZcxQ9mvf",
        "colab": {
          "base_uri": "https://localhost:8080/"
        },
        "outputId": "fb3ef0ef-8439-4a4e-a8f1-985b13a7dd2c"
      },
      "source": [
        "from google.colab import drive\r\n",
        "drive.mount('/content/drive')"
      ],
      "execution_count": 56,
      "outputs": [
        {
          "output_type": "stream",
          "text": [
            "Drive already mounted at /content/drive; to attempt to forcibly remount, call drive.mount(\"/content/drive\", force_remount=True).\n"
          ],
          "name": "stdout"
        }
      ]
    },
    {
      "cell_type": "code",
      "metadata": {
        "id": "mKqJHk3T-JAf"
      },
      "source": [
        "import os\r\n",
        "import sys\r\n",
        "sys.path.append(\"/content/ner_project/ner_model\")"
      ],
      "execution_count": 57,
      "outputs": []
    },
    {
      "cell_type": "code",
      "metadata": {
        "id": "Y8L_M21Z06bS"
      },
      "source": [
        "import numpy as np\r\n",
        "import tensorflow as tf\r\n",
        "from Preprocess import preprocess\r\n",
        "from make_model import make_model\r\n",
        "from tokenizer import KoBertTokenizer\r\n",
        "\r\n",
        "def ner_task(textpath):\r\n",
        "    tokenizer = KoBertTokenizer.from_pretrained('monologg/kobert')\r\n",
        "    model = tf.keras.models.load_model(\"/content/drive/MyDrive/my_model.h5\")\r\n",
        "    my_model = make_model()\r\n",
        "    my_model.model_input.set_dataset(\"/content/ner_project/ner_model/train_data\")\r\n",
        "    my_model.model_input.make_input()\r\n",
        "    line_list = []\r\n",
        "\r\n",
        "    f = open(textpath, mode='r', encoding='utf-8')\r\n",
        "    while True:\r\n",
        "        line = f.readline()\r\n",
        "        if not line: break\r\n",
        "        line_list.append(line)\r\n",
        "    f.close()\r\n",
        "\r\n",
        "    f = open('ner_result.txt', mode='wt', encoding='utf-8')\r\n",
        "    for l in list(range(len(line_list))):\r\n",
        "\r\n",
        "        tokenized_sentence = np.array([tokenizer.encode(line_list[l], max_length=88, pad_to_max_length=True)])\r\n",
        "        tokenized_mask = np.array([[int(x != 1) for x in tokenized_sentence[0].tolist()]])\r\n",
        "        ans = model.predict([tokenized_sentence, tokenized_mask])\r\n",
        "        ans = np.argmax(ans, axis=2)\r\n",
        "\r\n",
        "        tokens = tokenizer.convert_ids_to_tokens(tokenized_sentence[0])\r\n",
        "        new_tokens, new_labels = [], []\r\n",
        "        for token, label_idx in zip(tokens, ans[0]):\r\n",
        "\r\n",
        "            if (token.startswith(\"▁\")):\r\n",
        "                new_labels.append(my_model.model_input.pr.index_to_ner[label_idx])\r\n",
        "                new_tokens.append(token[1:])\r\n",
        "            elif (token == '[CLS]'):\r\n",
        "                pass\r\n",
        "            elif (token == '[SEP]'):\r\n",
        "                pass\r\n",
        "            elif (token == '[PAD]'):\r\n",
        "                pass\r\n",
        "            elif (token != '[CLS]' or token != '[SEP]'):\r\n",
        "                new_tokens[-1] = new_tokens[-1] + token\r\n",
        "\r\n",
        "        for ll in list(range(len(new_tokens))):\r\n",
        "            f.write(\"{}\\t{}\\t{}\\n\".format(ll + 1, new_tokens[ll], new_labels[ll]))\r\n",
        "        f.write(\"\\n\")\r\n",
        "\r\n",
        "    f.close()"
      ],
      "execution_count": 58,
      "outputs": []
    },
    {
      "cell_type": "code",
      "metadata": {
        "id": "957s5aVDEFN1",
        "colab": {
          "base_uri": "https://localhost:8080/"
        },
        "outputId": "1adb1683-0ce6-46ef-af38-5783572bbef8"
      },
      "source": [
        "ner_task(\"/content/ner_project/pre_trained_data.txt\")"
      ],
      "execution_count": 59,
      "outputs": [
        {
          "output_type": "stream",
          "text": [
            "WARNING:tensorflow:Error in loading the saved optimizer state. As a result, your model is starting with a freshly initialized optimizer.\n"
          ],
          "name": "stdout"
        },
        {
          "output_type": "stream",
          "text": [
            "Truncation was not explicitly activated but `max_length` is provided a specific value, please use `truncation=True` to explicitly truncate examples to max length. Defaulting to 'longest_first' truncation strategy. If you encode pairs of sequences (GLUE-style) with the tokenizer you can select this strategy more precisely by providing a specific strategy to `truncation`.\n",
            "/usr/local/lib/python3.6/dist-packages/transformers/tokenization_utils_base.py:2179: FutureWarning: The `pad_to_max_length` argument is deprecated and will be removed in a future version, use `padding=True` or `padding='longest'` to pad to the longest sequence in the batch, or use `padding='max_length'` to pad to a max length. In this case, you can give a specific length with `max_length` (e.g. `max_length=45`) or leave max_length to None to pad to the maximal input size of the model (e.g. 512 for Bert).\n",
            "  FutureWarning,\n"
          ],
          "name": "stderr"
        }
      ]
    },
    {
      "cell_type": "code",
      "metadata": {
        "id": "53VvW6-dFBWm"
      },
      "source": [
        ""
      ],
      "execution_count": null,
      "outputs": []
    }
  ]
}